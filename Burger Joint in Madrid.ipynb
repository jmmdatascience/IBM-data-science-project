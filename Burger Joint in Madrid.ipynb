{
    "cells": [
        {
            "cell_type": "markdown",
            "metadata": {
                "collapsed": true
            },
            "source": "\n# Burger Joint in Madrid"
        },
        {
            "cell_type": "markdown",
            "metadata": {},
            "source": "## Introduction / business problem"
        },
        {
            "cell_type": "markdown",
            "metadata": {},
            "source": "In Madrid, if someone is looking to open a burger joint, the question is, where would you recommend to open it? The background of the problem is that in order for a burger joint to be profitable, there must be enough customers, and in order to have enough customers, it is not worth setting up one in the immediate promixity of existing ones.\n\nLet's also make sure that the location to open the local should be a place with the higher possible customers. The New owner should care about this problem because the location of the new bruger joint has a significant impact on the expected returns."
        },
        {
            "cell_type": "markdown",
            "metadata": {},
            "source": "## Data used"
        },
        {
            "cell_type": "markdown",
            "metadata": {},
            "source": "We will use a CSV file with data from Wikipedia with the information of each of the 21 districts in Madrid: Population, Latitute and Longitude"
        },
        {
            "cell_type": "code",
            "execution_count": 4,
            "metadata": {},
            "outputs": [
                {
                    "data": {
                        "text/html": "<div>\n<style scoped>\n    .dataframe tbody tr th:only-of-type {\n        vertical-align: middle;\n    }\n\n    .dataframe tbody tr th {\n        vertical-align: top;\n    }\n\n    .dataframe thead th {\n        text-align: right;\n    }\n</style>\n<table border=\"1\" class=\"dataframe\">\n  <thead>\n    <tr style=\"text-align: right;\">\n      <th></th>\n      <th>Number</th>\n      <th>District</th>\n      <th>latitude</th>\n      <th>longitude</th>\n      <th>population</th>\n    </tr>\n  </thead>\n  <tbody>\n    <tr>\n      <th>0</th>\n      <td>1</td>\n      <td>Centro</td>\n      <td>40.415347</td>\n      <td>-3.707371</td>\n      <td>131928</td>\n    </tr>\n    <tr>\n      <th>1</th>\n      <td>2</td>\n      <td>Arganzuela</td>\n      <td>40.402733</td>\n      <td>-3.695403</td>\n      <td>151965</td>\n    </tr>\n    <tr>\n      <th>2</th>\n      <td>3</td>\n      <td>Retiro</td>\n      <td>40.413170</td>\n      <td>-3.683070</td>\n      <td>118516</td>\n    </tr>\n    <tr>\n      <th>3</th>\n      <td>4</td>\n      <td>Salamanca</td>\n      <td>40.430000</td>\n      <td>-3.677778</td>\n      <td>143800</td>\n    </tr>\n    <tr>\n      <th>4</th>\n      <td>5</td>\n      <td>Chamartin</td>\n      <td>40.453333</td>\n      <td>-3.677500</td>\n      <td>143424</td>\n    </tr>\n  </tbody>\n</table>\n</div>",
                        "text/plain": "   Number    District   latitude  longitude  population\n0       1      Centro  40.415347  -3.707371      131928\n1       2  Arganzuela  40.402733  -3.695403      151965\n2       3      Retiro  40.413170  -3.683070      118516\n3       4   Salamanca  40.430000  -3.677778      143800\n4       5   Chamartin  40.453333  -3.677500      143424"
                    },
                    "execution_count": 4,
                    "metadata": {},
                    "output_type": "execute_result"
                }
            ],
            "source": "# The code was removed by Watson Studio for sharing."
        },
        {
            "cell_type": "markdown",
            "metadata": {},
            "source": "We will also use Foursquare data to obtain which districs of Madrid have already a lot of burger joints. Then using this information plus the population we will use K - Clustering to obtain the best location for our new restaurant."
        }
    ],
    "metadata": {
        "kernelspec": {
            "display_name": "Python 3.6",
            "language": "python",
            "name": "python3"
        },
        "language_info": {
            "codemirror_mode": {
                "name": "ipython",
                "version": 3
            },
            "file_extension": ".py",
            "mimetype": "text/x-python",
            "name": "python",
            "nbconvert_exporter": "python",
            "pygments_lexer": "ipython3",
            "version": "3.6.9"
        }
    },
    "nbformat": 4,
    "nbformat_minor": 1
}